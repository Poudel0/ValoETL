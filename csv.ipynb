{
 "cells": [
  {
   "cell_type": "code",
   "execution_count": 1,
   "metadata": {},
   "outputs": [],
   "source": [
    "import json\n",
    "import pandas as pd\n",
    "import os\n",
    "\n",
    "# Load the JSON data\n",
    "with open('stats_raw_json.json', 'r') as f:\n",
    "    data = json.load(f)\n",
    "\n",
    "agents = data['props']['pageProps']['content']['abilities']\n",
    "\n",
    "    # Create lagentsts to store agentDs and agentn-game names (IGNs)\n",
    "ids = []\n",
    "names = []\n",
    "types= []\n",
    "agentId=[]\n",
    "damages=[]\n",
    "# category= []\n"
   ]
  },
  {
   "cell_type": "code",
   "execution_count": 2,
   "metadata": {},
   "outputs": [
    {
     "name": "stdout",
     "output_type": "stream",
     "text": [
      "[3, 9, 17, 20, 21, 13, 25, 14, 19, 5, 6, 23, 24, 22, 11, 7, 8, 4, 2, 16, 12, 15, 1, 18] \n",
      " ['Aftershock', 'Molly', 'Orbital Strike', 'Headhunter', 'Tour de Force', 'Trapwire', 'Mosh Pit', 'Bladestorm', 'Fragment', 'Nanoswarm', 'Turret', 'Fast Lane', 'Overdrive', 'Relay Bolt', 'Blaze', 'Hot Hands', 'Blast Pack', 'Boombot', 'Paint Shells', 'Showstopper', 'Trailblazer', 'Hunters Fury', 'Shock Dart', 'Snake Bite']\n"
     ]
    }
   ],
   "source": [
    "for agent in agents:\n",
    "    ids.append(agent['id'])\n",
    "    names.append(agent['name'])\n",
    "    types.append(agent['type'])\n",
    "    agentId.append(agent['agentId'])\n",
    "    damages.append(agent['damages'])\n",
    "\n",
    "print(ids,'\\n', names)\n"
   ]
  },
  {
   "cell_type": "code",
   "execution_count": 3,
   "metadata": {},
   "outputs": [],
   "source": [
    "\n",
    "\n",
    "    # Create a DataFrame from the lists without adding index column\n",
    "df = pd.DataFrame({'id': ids, 'name': names, 'type': types, 'agentId': agentId, 'damages':damages})\n",
    "# df = df.drop_duplicates(subset=['id', 'name','roleId','role'])\n",
    "\n",
    "    # Check if the CSV file exists\n",
    "csv_file = 'abilities.csv'\n",
    "if os.path.exists(csv_file) and os.path.getsize(csv_file) > 0:\n",
    "        # Read existing data from the CSV file\n",
    "        existing_df = pd.read_csv(csv_file)\n",
    "else:\n",
    "        # Initialize existing_df as an empty DataFrame\n",
    "        existing_df = pd.DataFrame()\n",
    "\n",
    "    # Combine existing data with new data from DataFrame\n",
    "combined_df = pd.concat([existing_df, df], ignore_index=True)\n",
    "\n",
    "    # Drop duplicates based on ID and IGN\n",
    "combined_df = combined_df.drop_duplicates(subset=['id', 'name', 'type','agentId', 'damages'])\n",
    "\n",
    "\n",
    "    # Write the combined data to the CSV file without index\n",
    "combined_df.to_csv(csv_file, index=False)\n",
    "\n"
   ]
  },
  {
   "cell_type": "code",
   "execution_count": 2,
   "metadata": {},
   "outputs": [
    {
     "name": "stdout",
     "output_type": "stream",
     "text": [
      "[{'matchId': 167235, 'playerId': 3642, 'teamNumber': 2, 'agentId': 19, 'player': {'id': 3642, 'ign': 'crws'}}, {'matchId': 167235, 'playerId': 13610, 'teamNumber': 2, 'agentId': 11, 'player': {'id': 13610, 'ign': 'JitboyS'}}, {'matchId': 167235, 'playerId': 4235, 'teamNumber': 2, 'agentId': 2, 'player': {'id': 4235, 'ign': 'Governor'}}, {'matchId': 167235, 'playerId': 21245, 'teamNumber': 2, 'agentId': 6, 'player': {'id': 21245, 'ign': 'Surf'}}, {'matchId': 167235, 'playerId': 432, 'teamNumber': 1, 'agentId': 2, 'player': {'id': 432, 'ign': 'Jinggg'}}, {'matchId': 167235, 'playerId': 3340, 'teamNumber': 2, 'agentId': 5, 'player': {'id': 3340, 'ign': 'ban'}}, {'matchId': 167235, 'playerId': 8386, 'teamNumber': 1, 'agentId': 1, 'player': {'id': 8386, 'ign': 'f0rsakeN'}}, {'matchId': 167235, 'playerId': 8385, 'teamNumber': 1, 'agentId': 11, 'player': {'id': 8385, 'ign': 'mindfreak'}}, {'matchId': 167235, 'playerId': 8388, 'teamNumber': 1, 'agentId': 13, 'player': {'id': 8388, 'ign': 'd4v41'}}, {'matchId': 167235, 'playerId': 15518, 'teamNumber': 1, 'agentId': 12, 'player': {'id': 15518, 'ign': 'something'}}]\n"
     ]
    }
   ],
   "source": [
    "print(datavar)"
   ]
  },
  {
   "cell_type": "code",
   "execution_count": 3,
   "metadata": {},
   "outputs": [],
   "source": [
    "import pandas as pd"
   ]
  },
  {
   "cell_type": "code",
   "execution_count": 4,
   "metadata": {},
   "outputs": [
    {
     "data": {
      "text/html": [
       "<div>\n",
       "<style scoped>\n",
       "    .dataframe tbody tr th:only-of-type {\n",
       "        vertical-align: middle;\n",
       "    }\n",
       "\n",
       "    .dataframe tbody tr th {\n",
       "        vertical-align: top;\n",
       "    }\n",
       "\n",
       "    .dataframe thead th {\n",
       "        text-align: right;\n",
       "    }\n",
       "</style>\n",
       "<table border=\"1\" class=\"dataframe\">\n",
       "  <thead>\n",
       "    <tr style=\"text-align: right;\">\n",
       "      <th></th>\n",
       "      <th>matchId</th>\n",
       "      <th>playerId</th>\n",
       "      <th>teamNumber</th>\n",
       "      <th>agentId</th>\n",
       "      <th>player</th>\n",
       "    </tr>\n",
       "  </thead>\n",
       "  <tbody>\n",
       "    <tr>\n",
       "      <th>0</th>\n",
       "      <td>167388</td>\n",
       "      <td>34555</td>\n",
       "      <td>2</td>\n",
       "      <td>11</td>\n",
       "      <td>{'id': 34555, 'ign': 'Karon'}</td>\n",
       "    </tr>\n",
       "    <tr>\n",
       "      <th>1</th>\n",
       "      <td>167388</td>\n",
       "      <td>8385</td>\n",
       "      <td>1</td>\n",
       "      <td>11</td>\n",
       "      <td>{'id': 8385, 'ign': 'mindfreak'}</td>\n",
       "    </tr>\n",
       "    <tr>\n",
       "      <th>2</th>\n",
       "      <td>167388</td>\n",
       "      <td>876</td>\n",
       "      <td>2</td>\n",
       "      <td>6</td>\n",
       "      <td>{'id': 876, 'ign': 'Munchkin'}</td>\n",
       "    </tr>\n",
       "    <tr>\n",
       "      <th>3</th>\n",
       "      <td>167388</td>\n",
       "      <td>3521</td>\n",
       "      <td>2</td>\n",
       "      <td>19</td>\n",
       "      <td>{'id': 3521, 'ign': 'Lakia'}</td>\n",
       "    </tr>\n",
       "    <tr>\n",
       "      <th>4</th>\n",
       "      <td>167388</td>\n",
       "      <td>4811</td>\n",
       "      <td>2</td>\n",
       "      <td>2</td>\n",
       "      <td>{'id': 4811, 'ign': 'T3xture'}</td>\n",
       "    </tr>\n",
       "  </tbody>\n",
       "</table>\n",
       "</div>"
      ],
      "text/plain": [
       "   matchId  playerId  teamNumber  agentId                            player\n",
       "0   167388     34555           2       11     {'id': 34555, 'ign': 'Karon'}\n",
       "1   167388      8385           1       11  {'id': 8385, 'ign': 'mindfreak'}\n",
       "2   167388       876           2        6    {'id': 876, 'ign': 'Munchkin'}\n",
       "3   167388      3521           2       19      {'id': 3521, 'ign': 'Lakia'}\n",
       "4   167388      4811           2        2    {'id': 4811, 'ign': 'T3xture'}"
      ]
     },
     "execution_count": 4,
     "metadata": {},
     "output_type": "execute_result"
    }
   ],
   "source": [
    "df= pd.read_json(\"test.json\")\n",
    "df.head()"
   ]
  },
  {
   "cell_type": "code",
   "execution_count": 1,
   "metadata": {},
   "outputs": [],
   "source": [
    "import helium as he"
   ]
  },
  {
   "cell_type": "code",
   "execution_count": 2,
   "metadata": {},
   "outputs": [
    {
     "ename": "NameError",
     "evalue": "name 'start_chrome' is not defined",
     "output_type": "error",
     "traceback": [
      "\u001b[1;31m---------------------------------------------------------------------------\u001b[0m",
      "\u001b[1;31mNameError\u001b[0m                                 Traceback (most recent call last)",
      "Cell \u001b[1;32mIn [2], line 1\u001b[0m\n\u001b[1;32m----> 1\u001b[0m \u001b[43mstart_chrome\u001b[49m(\n\u001b[0;32m      2\u001b[0m )\n",
      "\u001b[1;31mNameError\u001b[0m: name 'start_chrome' is not defined"
     ]
    }
   ],
   "source": [
    "start_chrome(\n",
    ")"
   ]
  },
  {
   "cell_type": "code",
   "execution_count": 4,
   "metadata": {},
   "outputs": [
    {
     "data": {
      "text/plain": [
       "<selenium.webdriver.firefox.webdriver.WebDriver (session=\"0fb0a7ff-b351-4b54-89f0-51148d848a98\")>"
      ]
     },
     "execution_count": 4,
     "metadata": {},
     "output_type": "execute_result"
    }
   ],
   "source": [
    "he.start_firefox()"
   ]
  },
  {
   "cell_type": "code",
   "execution_count": 5,
   "metadata": {},
   "outputs": [],
   "source": [
    "he.go_to(\"https://www.rib.gg/series/loud-vs-drx-vct-2023-lock/in-sao-paulo/43282\")"
   ]
  },
  {
   "cell_type": "code",
   "execution_count": 7,
   "metadata": {},
   "outputs": [],
   "source": [
    "he.click('Icebox')"
   ]
  },
  {
   "cell_type": "code",
   "execution_count": 14,
   "metadata": {},
   "outputs": [],
   "source": [
    "he.click('2D Replay')"
   ]
  },
  {
   "cell_type": "code",
   "execution_count": 17,
   "metadata": {},
   "outputs": [],
   "source": [
    "maps = he.find_all(he.S('.MuiBox-root css-107dhxd'))"
   ]
  },
  {
   "cell_type": "code",
   "execution_count": 19,
   "metadata": {},
   "outputs": [],
   "source": [
    "mapss = [item.web_element.text for item in maps]"
   ]
  },
  {
   "cell_type": "code",
   "execution_count": 20,
   "metadata": {},
   "outputs": [
    {
     "name": "stdout",
     "output_type": "stream",
     "text": [
      "[]\n"
     ]
    }
   ],
   "source": [
    "print(mapss)"
   ]
  },
  {
   "cell_type": "code",
   "execution_count": 1,
   "metadata": {},
   "outputs": [
    {
     "ename": "SyntaxError",
     "evalue": "'return' outside function (2693280729.py, line 31)",
     "output_type": "error",
     "traceback": [
      "\u001b[1;36m  Cell \u001b[1;32mIn [1], line 31\u001b[1;36m\u001b[0m\n\u001b[1;33m    return (stats_data_raw,match_ids)\u001b[0m\n\u001b[1;37m    ^\u001b[0m\n\u001b[1;31mSyntaxError\u001b[0m\u001b[1;31m:\u001b[0m 'return' outside function\n"
     ]
    }
   ],
   "source": [
    "import requests\n",
    "import json\n",
    "# import os\n",
    "# import pandas as pd\n",
    "# from helium import *\n",
    "\n",
    "url = \"https://www.rib.gg/series/drx-vs-cloud9-vct-2023-lock/in-sao-paulo/43130\"\n",
    "\n",
    "\n",
    "# def scrape(url):\n",
    "response = requests.get(url)\n",
    "\n",
    "if response.status_code == 200:\n",
    "    start_index= response.text.find('<script id=\"__NEXT_DATA__\" type=\"application/json\">' )\n",
    "    start_index= start_index + len('<script id=\"__NEXT_DATA__\" type=\"application/json\">')\n",
    "    end_index= response.text.find('</script>',start_index)\n",
    "    json_string = response.text[start_index:end_index].strip()\n",
    "\n",
    "    stats_data_raw = json.loads(json_string)\n",
    "\n",
    "else:\n",
    "    print('Failed trying to scrape')\n",
    "    # return None\n",
    "matchesplayed =[]\n",
    "matches = stats_data_raw['props']['pageProps']['series']['matches']\n",
    "match_ids = [match['id'] for match in matches]\n",
    "\n",
    "    # Print the match IDs\n",
    "\n",
    "\n",
    "# return (stats_data_raw,match_ids)\n"
   ]
  },
  {
   "cell_type": "code",
   "execution_count": null,
   "metadata": {},
   "outputs": [],
   "source": []
  }
 ],
 "metadata": {
  "kernelspec": {
   "display_name": "Python 3",
   "language": "python",
   "name": "python3"
  },
  "language_info": {
   "codemirror_mode": {
    "name": "ipython",
    "version": 3
   },
   "file_extension": ".py",
   "mimetype": "text/x-python",
   "name": "python",
   "nbconvert_exporter": "python",
   "pygments_lexer": "ipython3",
   "version": "3.10.7"
  }
 },
 "nbformat": 4,
 "nbformat_minor": 2
}
